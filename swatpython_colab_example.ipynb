{
  "nbformat": 4,
  "nbformat_minor": 0,
  "metadata": {
    "colab": {
      "name": "swatpython_colab_example.ipynb",
      "provenance": [],
      "collapsed_sections": [],
      "authorship_tag": "ABX9TyN93w0Fa/zLy3iTkxO0XCci",
      "include_colab_link": true
    },
    "kernelspec": {
      "name": "python3",
      "display_name": "Python 3"
    }
  },
  "cells": [
    {
      "cell_type": "markdown",
      "metadata": {
        "id": "view-in-github",
        "colab_type": "text"
      },
      "source": [
        "<a href=\"https://colab.research.google.com/github/SWAT-Brasil/swatpythonexamples/blob/master/swatpython_colab_example.ipynb\" target=\"_parent\"><img src=\"https://colab.research.google.com/assets/colab-badge.svg\" alt=\"Open In Colab\"/></a>"
      ]
    },
    {
      "cell_type": "markdown",
      "metadata": {
        "id": "kY2h2btNo7BA",
        "colab_type": "text"
      },
      "source": [
        "# Colab swatpython example\n",
        "This is an example on how to use Colab to process your SWAT project, and use a powerfull hardware to speed up the processing.\n",
        "\n",
        "Colab is a service provided by Google.\n",
        "\n",
        "*Still in developing mode*"
      ]
    },
    {
      "cell_type": "code",
      "metadata": {
        "id": "ha11EPuSo3v_",
        "colab_type": "code",
        "colab": {}
      },
      "source": [
        "# Load packages\n",
        "import platform\n",
        "import numpy\n",
        "import pandas\n",
        "import logging\n",
        "import time\n",
        "import os\n",
        "import platform\n",
        "import datetime"
      ],
      "execution_count": 0,
      "outputs": []
    },
    {
      "cell_type": "code",
      "metadata": {
        "id": "-BEg820VmMI0",
        "colab_type": "code",
        "colab": {
          "base_uri": "https://localhost:8080/",
          "height": 34
        },
        "outputId": "f704c36c-2ad7-49b2-f19b-a0d833a3b99c"
      },
      "source": [
        "# Set logging enviroment\n",
        "logging.basicConfig(level=logging.DEBUG)\n",
        "logger = logging.getLogger(__name__)\n",
        "# Show python version for information\n",
        "logger.info(\"Python version: \" + platform.python_version())"
      ],
      "execution_count": 2,
      "outputs": [
        {
          "output_type": "stream",
          "text": [
            "INFO:__main__:Python version: 3.6.9\n"
          ],
          "name": "stderr"
        }
      ]
    },
    {
      "cell_type": "code",
      "metadata": {
        "id": "SmEzn409UK4Z",
        "colab_type": "code",
        "outputId": "bf931918-f0be-4ad5-e97f-908e181e4022",
        "colab": {
          "base_uri": "https://localhost:8080/",
          "height": 573
        }
      },
      "source": [
        "# Clone swatpython example\n",
        "import sys\n",
        "IN_COLAB = 'google.colab' in sys.modules\n",
        "if IN_COLAB:\n",
        "  !git clone --recurse-submodules https://github.com/SWAT-Brasil/swatpythonexamples.git\n",
        "else:\n",
        "  logger.error(\"Not in Colab enviroment. Git clone skipped to avoid cluttering your path. Do it manually\")"
      ],
      "execution_count": 3,
      "outputs": [
        {
          "output_type": "stream",
          "text": [
            "Cloning into 'swatpythonexamples'...\n",
            "remote: Enumerating objects: 115, done.\u001b[K\n",
            "remote: Counting objects: 100% (115/115), done.\u001b[K\n",
            "remote: Compressing objects: 100% (80/80), done.\u001b[K\n",
            "remote: Total 115 (delta 65), reused 80 (delta 33), pack-reused 0\u001b[K\n",
            "Receiving objects: 100% (115/115), 18.61 KiB | 4.65 MiB/s, done.\n",
            "Resolving deltas: 100% (65/65), done.\n",
            "Submodule 'swatcuppython' (https://github.com/SWAT-Brasil/swatcuppython.git) registered for path 'swatcuppython'\n",
            "Submodule 'swatdata' (https://github.com/SWAT-Brasil/swatdata.git) registered for path 'swatdata'\n",
            "Submodule 'swatpython' (https://github.com/SWAT-Brasil/swatpython.git) registered for path 'swatpython'\n",
            "Cloning into '/content/swatpythonexamples/swatcuppython'...\n",
            "remote: Enumerating objects: 335, done.        \n",
            "remote: Counting objects: 100% (335/335), done.        \n",
            "remote: Compressing objects: 100% (167/167), done.        \n",
            "remote: Total 335 (delta 134), reused 331 (delta 130), pack-reused 0        \n",
            "Receiving objects: 100% (335/335), 20.13 MiB | 22.68 MiB/s, done.\n",
            "Resolving deltas: 100% (134/134), done.\n",
            "Cloning into '/content/swatpythonexamples/swatdata'...\n",
            "remote: Enumerating objects: 1946, done.        \n",
            "remote: Counting objects: 100% (1946/1946), done.        \n",
            "remote: Compressing objects: 100% (319/319), done.        \n",
            "remote: Total 1946 (delta 1661), reused 1876 (delta 1597), pack-reused 0        \n",
            "Receiving objects: 100% (1946/1946), 20.23 MiB | 13.80 MiB/s, done.\n",
            "Resolving deltas: 100% (1661/1661), done.\n",
            "Cloning into '/content/swatpythonexamples/swatpython'...\n",
            "remote: Enumerating objects: 83, done.        \n",
            "remote: Counting objects: 100% (83/83), done.        \n",
            "remote: Compressing objects: 100% (57/57), done.        \n",
            "remote: Total 83 (delta 43), reused 63 (delta 23), pack-reused 0        \n",
            "Submodule path 'swatcuppython': checked out '659cbd685895d64406a3c50d4a956ccbf72a5fb2'\n",
            "Submodule path 'swatdata': checked out 'd8f1538715cd69746060b6192c6a4fd97835128e'\n",
            "Submodule path 'swatpython': checked out '1ee7d5b210b1b0ebc0bb62841d645f2b2a230d4e'\n"
          ],
          "name": "stdout"
        }
      ]
    },
    {
      "cell_type": "code",
      "metadata": {
        "id": "6re-WwWSVOhz",
        "colab_type": "code",
        "outputId": "b845e02d-9060-4f2b-bd24-a8c9a2ae9b28",
        "colab": {
          "base_uri": "https://localhost:8080/",
          "height": 34
        }
      },
      "source": [
        "cd swatpythonexamples"
      ],
      "execution_count": 4,
      "outputs": [
        {
          "output_type": "stream",
          "text": [
            "/content/swatpythonexamples\n"
          ],
          "name": "stdout"
        }
      ]
    },
    {
      "cell_type": "code",
      "metadata": {
        "id": "4hKgbbVgVsE9",
        "colab_type": "code",
        "colab": {}
      },
      "source": [
        "# Load swatpython\n",
        "from swatpython.swat import SWAT\n",
        "from swatpython.swatversion import SWATVersion\n",
        "from swatpython.operationalsystem import OperationalSystem"
      ],
      "execution_count": 0,
      "outputs": []
    },
    {
      "cell_type": "code",
      "metadata": {
        "id": "ycwKSvXnWNhI",
        "colab_type": "code",
        "outputId": "d93dd450-4990-43a1-df1f-d8be450eb659",
        "colab": {
          "base_uri": "https://localhost:8080/",
          "height": 69
        }
      },
      "source": [
        "# Set project version and folder\n",
        "swat = SWAT(SWATVersion.SWAT2012REV637)\n",
        "swat.set_project_folder('./swatdata//swat2012/swat2012_rev637/txtinout')"
      ],
      "execution_count": 6,
      "outputs": [
        {
          "output_type": "stream",
          "text": [
            "INFO:swatpython.swat:Detected OS: Linux 64bit\n",
            "INFO:swatpython.swat:Using SWATPython module: swat2012rev637\n",
            "INFO:swatpython.swat:Project folder found: ./swatdata//swat2012/swat2012_rev637/txtinout\n"
          ],
          "name": "stderr"
        }
      ]
    },
    {
      "cell_type": "code",
      "metadata": {
        "id": "U6OHrXeCmow7",
        "colab_type": "code",
        "colab": {}
      },
      "source": [
        "# set execution permission - not sure why it is not set from git. Perhaps it is something with Colab\n",
        "# TODO: check how to get rid of this (if possible).\n",
        "!chmod +x ./swatpython/swat2012rev637/swat2012_rev637_linux\n",
        "!chmod +x ./swatpython/swat2012rev670/swat2012_rev670_linux"
      ],
      "execution_count": 0,
      "outputs": []
    },
    {
      "cell_type": "code",
      "metadata": {
        "id": "ZBz3kIZnWkc5",
        "colab_type": "code",
        "outputId": "bd45acdb-0e02-4116-baff-22bbf66590f1",
        "colab": {
          "base_uri": "https://localhost:8080/",
          "height": 399
        }
      },
      "source": [
        "# Run SWAT in sync mode: you see the output and wait to finish\n",
        "swat.run()"
      ],
      "execution_count": 8,
      "outputs": [
        {
          "output_type": "stream",
          "text": [
            "DEBUG:swatpython.swat:Running SWAT in folder: ./swatdata//swat2012/swat2012_rev637/txtinout\n"
          ],
          "name": "stderr"
        },
        {
          "output_type": "stream",
          "text": [
            "                SWAT2012               \n",
            "               Rev. 637              \n",
            "      Soil & Water Assessment Tool    \n",
            "               PC Version             \n",
            " Program reading from file.cio . . . executing\n",
            "\n",
            "  Executing year    1\n",
            "  Executing year    2\n",
            "  Executing year    3\n",
            "  Executing year    4\n",
            "  Executing year    5\n",
            "  Executing year    6\n",
            "  Executing year    7\n",
            "  Executing year    8\n",
            "  Executing year    9\n",
            "  Executing year   10\n",
            "  Executing year   11\n",
            "  Executing year   12\n",
            "  Executing year   13\n",
            "\n",
            " Execution successfully completed \n"
          ],
          "name": "stdout"
        }
      ]
    },
    {
      "cell_type": "code",
      "metadata": {
        "id": "Sf8-jwwKXngs",
        "colab_type": "code",
        "outputId": "f945aa4d-e3e1-4051-8c8d-8b9a2afa583f",
        "colab": {
          "base_uri": "https://localhost:8080/",
          "height": 139
        }
      },
      "source": [
        "# Assync run example: you don't see the output but can do other stuff during processing, like run other swat processess.\n",
        "swat.async_run()\n",
        "while swat.async_is_running():\n",
        "    logger.debug(\"SWAT is running\")\n",
        "    # Do other stuffs\n",
        "    time.sleep(1)\n",
        "logger.debug(\"Return code:\" + str(swat.async_return_code()))\n"
      ],
      "execution_count": 10,
      "outputs": [
        {
          "output_type": "stream",
          "text": [
            "DEBUG:swatpython.swat:Running SWAT in folder: ./swatdata//swat2012/swat2012_rev637/txtinout\n",
            "DEBUG:swatpython.swat2012rev637.swat2012rev637:Runnnig sufi2_async_run\n",
            "DEBUG:__main__:SWAT is running\n",
            "DEBUG:__main__:SWAT is running\n",
            "DEBUG:__main__:SWAT is running\n",
            "DEBUG:__main__:SWAT is running\n",
            "DEBUG:__main__:Return code:0\n"
          ],
          "name": "stderr"
        }
      ]
    },
    {
      "cell_type": "markdown",
      "metadata": {
        "id": "yo1QkWX0uSHS",
        "colab_type": "text"
      },
      "source": [
        "# Running a real project\n",
        "\n",
        "Example of a real project:\n",
        "- donwload project code from gdrive\n",
        "- unzip the project\n",
        "- run swat\n",
        "- TODO: copy results back to gdrive"
      ]
    },
    {
      "cell_type": "code",
      "metadata": {
        "id": "fkfkMkP7Yiaz",
        "colab_type": "code",
        "colab": {
          "base_uri": "https://localhost:8080/",
          "height": 124
        },
        "outputId": "5024494b-59bd-4713-9f46-bfaeff27d498"
      },
      "source": [
        "# Import project from gdrive\n",
        "from google.colab import drive\n",
        "drive.mount('/content/drive')"
      ],
      "execution_count": 9,
      "outputs": [
        {
          "output_type": "stream",
          "text": [
            "Go to this URL in a browser: https://accounts.google.com/o/oauth2/auth?client_id=947318989803-6bn6qk8qdgf4n4g3pfee6491hc0brc4i.apps.googleusercontent.com&redirect_uri=urn%3aietf%3awg%3aoauth%3a2.0%3aoob&response_type=code&scope=email%20https%3a%2f%2fwww.googleapis.com%2fauth%2fdocs.test%20https%3a%2f%2fwww.googleapis.com%2fauth%2fdrive%20https%3a%2f%2fwww.googleapis.com%2fauth%2fdrive.photos.readonly%20https%3a%2f%2fwww.googleapis.com%2fauth%2fpeopleapi.readonly\n",
            "\n",
            "Enter your authorization code:\n",
            "··········\n",
            "Mounted at /content/drive\n"
          ],
          "name": "stdout"
        }
      ]
    },
    {
      "cell_type": "code",
      "metadata": {
        "id": "JN9SoaIns148",
        "colab_type": "code",
        "colab": {
          "base_uri": "https://localhost:8080/",
          "height": 34
        },
        "outputId": "2ccd2033-75fa-4217-f510-da0b24b2bf59"
      },
      "source": [
        "!ls \"/content/drive/My Drive/Projetos/SWAT in linux/swat2012_rev637_piracicaba_dani\""
      ],
      "execution_count": 10,
      "outputs": [
        {
          "output_type": "stream",
          "text": [
            "piracicaba_swatcup.zip\n"
          ],
          "name": "stdout"
        }
      ]
    },
    {
      "cell_type": "code",
      "metadata": {
        "id": "a-SGdGKa_dzy",
        "colab_type": "code",
        "colab": {}
      },
      "source": [
        "# Create project folder\n",
        "!mkdir /content/swat_project\n"
      ],
      "execution_count": 0,
      "outputs": []
    },
    {
      "cell_type": "code",
      "metadata": {
        "id": "iK7Yi1ztOqjc",
        "colab_type": "code",
        "colab": {}
      },
      "source": [
        "# Optional: Create RAM drive\n",
        "# A quick check shown that there is not advantage using RAM drivers. For one project\n",
        "# the total time was 14:39 min for RAM drive, and 14:32 min for disk. Uncoment following line\n",
        "# to use ram drive.\n",
        "#!sudo mount -t tmpfs -o size=5G myramdisk /content/ramdisk\n",
        "#!sudo umount /content/ramdisk"
      ],
      "execution_count": 0,
      "outputs": []
    },
    {
      "cell_type": "code",
      "metadata": {
        "id": "WJ9vzIfute_w",
        "colab_type": "code",
        "colab": {}
      },
      "source": [
        "# Unzip project\n",
        "!unzip -q \"/content/drive/My Drive/Projetos/SWAT in linux/swat2012_rev637_piracicaba_dani/piracicaba_swatcup.zip\"  -d \"/content/swat_project/\""
      ],
      "execution_count": 0,
      "outputs": []
    },
    {
      "cell_type": "code",
      "metadata": {
        "id": "KWzntCYXugoj",
        "colab_type": "code",
        "colab": {
          "base_uri": "https://localhost:8080/",
          "height": 69
        },
        "outputId": "013a36cc-db3b-4340-f3a5-7e572d93367a"
      },
      "source": [
        "# Set project version and folder\n",
        "swat_piracicaba = SWAT(SWATVersion.SWAT2012REV637)\n",
        "swat_piracicaba.set_project_folder('/content/swat_project/Default/TxtInOut')"
      ],
      "execution_count": 28,
      "outputs": [
        {
          "output_type": "stream",
          "text": [
            "INFO:swatpython.swat:Detected OS: Linux 64bit\n",
            "INFO:swatpython.swat:Using SWATPython module: swat2012rev637\n",
            "INFO:swatpython.swat:Project folder found: /content/swat_project/Default/TxtInOut\n"
          ],
          "name": "stderr"
        }
      ]
    },
    {
      "cell_type": "code",
      "metadata": {
        "id": "Mvvx3XHgvAZI",
        "colab_type": "code",
        "colab": {
          "base_uri": "https://localhost:8080/",
          "height": 504
        },
        "outputId": "c12d37ad-7298-43bf-dd67-5c8d680a05c4"
      },
      "source": [
        "# Run swat. Add some time porfiling for reference.\n",
        "start =  datetime.datetime.now()\n",
        "swat_piracicaba.run()\n",
        "stop = datetime.datetime.now()\n",
        "logger.info(\"Elapsed time: \" + str(stop - start))"
      ],
      "execution_count": 29,
      "outputs": [
        {
          "output_type": "stream",
          "text": [
            "DEBUG:swatpython.swat:Running SWAT in folder: /content/swat_project/Default/TxtInOut\n"
          ],
          "name": "stderr"
        },
        {
          "output_type": "stream",
          "text": [
            "                SWAT2012               \n",
            "               Rev. 637              \n",
            "      Soil & Water Assessment Tool    \n",
            "               PC Version             \n",
            " Program reading from file.cio . . . executing\n",
            "\n",
            "  Executing year    1\n"
          ],
          "name": "stdout"
        },
        {
          "output_type": "error",
          "ename": "KeyboardInterrupt",
          "evalue": "ignored",
          "traceback": [
            "\u001b[0;31m---------------------------------------------------------------------------\u001b[0m",
            "\u001b[0;31mKeyboardInterrupt\u001b[0m                         Traceback (most recent call last)",
            "\u001b[0;32m<ipython-input-29-a6b9724f9982>\u001b[0m in \u001b[0;36m<module>\u001b[0;34m()\u001b[0m\n\u001b[1;32m      1\u001b[0m \u001b[0mstart\u001b[0m \u001b[0;34m=\u001b[0m  \u001b[0mdatetime\u001b[0m\u001b[0;34m.\u001b[0m\u001b[0mdatetime\u001b[0m\u001b[0;34m.\u001b[0m\u001b[0mnow\u001b[0m\u001b[0;34m(\u001b[0m\u001b[0;34m)\u001b[0m\u001b[0;34m\u001b[0m\u001b[0;34m\u001b[0m\u001b[0m\n\u001b[0;32m----> 2\u001b[0;31m \u001b[0mswat_piracicaba\u001b[0m\u001b[0;34m.\u001b[0m\u001b[0mrun\u001b[0m\u001b[0;34m(\u001b[0m\u001b[0;34m)\u001b[0m\u001b[0;34m\u001b[0m\u001b[0;34m\u001b[0m\u001b[0m\n\u001b[0m\u001b[1;32m      3\u001b[0m \u001b[0mstop\u001b[0m \u001b[0;34m=\u001b[0m \u001b[0mdatetime\u001b[0m\u001b[0;34m.\u001b[0m\u001b[0mdatetime\u001b[0m\u001b[0;34m.\u001b[0m\u001b[0mnow\u001b[0m\u001b[0;34m(\u001b[0m\u001b[0;34m)\u001b[0m\u001b[0;34m\u001b[0m\u001b[0;34m\u001b[0m\u001b[0m\n\u001b[1;32m      4\u001b[0m \u001b[0mlogger\u001b[0m\u001b[0;34m.\u001b[0m\u001b[0minfo\u001b[0m\u001b[0;34m(\u001b[0m\u001b[0;34m\"Elapsed time: \"\u001b[0m \u001b[0;34m+\u001b[0m \u001b[0mstr\u001b[0m\u001b[0;34m(\u001b[0m\u001b[0mstop\u001b[0m \u001b[0;34m-\u001b[0m \u001b[0mstart\u001b[0m\u001b[0;34m)\u001b[0m\u001b[0;34m)\u001b[0m\u001b[0;34m\u001b[0m\u001b[0;34m\u001b[0m\u001b[0m\n",
            "\u001b[0;32m/content/swatpythonexamples/swatpython/swat.py\u001b[0m in \u001b[0;36mrun\u001b[0;34m(self)\u001b[0m\n\u001b[1;32m    106\u001b[0m         \u001b[0;34m\"\"\" executa o swat \"\"\"\u001b[0m\u001b[0;34m\u001b[0m\u001b[0;34m\u001b[0m\u001b[0m\n\u001b[1;32m    107\u001b[0m         \u001b[0mlogger\u001b[0m\u001b[0;34m.\u001b[0m\u001b[0mdebug\u001b[0m\u001b[0;34m(\u001b[0m\u001b[0;34m\"Running SWAT in folder: \"\u001b[0m \u001b[0;34m+\u001b[0m \u001b[0mself\u001b[0m\u001b[0;34m.\u001b[0m\u001b[0mproject_folder_path\u001b[0m\u001b[0;34m)\u001b[0m\u001b[0;34m\u001b[0m\u001b[0;34m\u001b[0m\u001b[0m\n\u001b[0;32m--> 108\u001b[0;31m         \u001b[0mself\u001b[0m\u001b[0;34m.\u001b[0m\u001b[0mwrapper\u001b[0m\u001b[0;34m.\u001b[0m\u001b[0mrun\u001b[0m\u001b[0;34m(\u001b[0m\u001b[0mself\u001b[0m\u001b[0;34m.\u001b[0m\u001b[0mproject_folder_path\u001b[0m\u001b[0;34m)\u001b[0m\u001b[0;34m\u001b[0m\u001b[0;34m\u001b[0m\u001b[0m\n\u001b[0m\u001b[1;32m    109\u001b[0m \u001b[0;34m\u001b[0m\u001b[0m\n\u001b[1;32m    110\u001b[0m     \u001b[0;32mdef\u001b[0m \u001b[0masync_run\u001b[0m\u001b[0;34m(\u001b[0m\u001b[0mself\u001b[0m\u001b[0;34m)\u001b[0m\u001b[0;34m:\u001b[0m\u001b[0;34m\u001b[0m\u001b[0;34m\u001b[0m\u001b[0m\n",
            "\u001b[0;32m/content/swatpythonexamples/swatpython/swat2012rev637/swat2012rev637.py\u001b[0m in \u001b[0;36mrun\u001b[0;34m(self, path)\u001b[0m\n\u001b[1;32m     48\u001b[0m             \u001b[0;31m#return subprocess.call([cmd], cwd=path, shell=True)\u001b[0m\u001b[0;34m\u001b[0m\u001b[0;34m\u001b[0m\u001b[0;34m\u001b[0m\u001b[0m\n\u001b[1;32m     49\u001b[0m             \u001b[0mprocess\u001b[0m \u001b[0;34m=\u001b[0m \u001b[0msubprocess\u001b[0m\u001b[0;34m.\u001b[0m\u001b[0mPopen\u001b[0m\u001b[0;34m(\u001b[0m\u001b[0mcmd\u001b[0m\u001b[0;34m,\u001b[0m \u001b[0mcwd\u001b[0m\u001b[0;34m=\u001b[0m\u001b[0mpath\u001b[0m\u001b[0;34m,\u001b[0m \u001b[0mstdout\u001b[0m\u001b[0;34m=\u001b[0m\u001b[0msubprocess\u001b[0m\u001b[0;34m.\u001b[0m\u001b[0mPIPE\u001b[0m\u001b[0;34m,\u001b[0m \u001b[0muniversal_newlines\u001b[0m\u001b[0;34m=\u001b[0m\u001b[0;32mTrue\u001b[0m\u001b[0;34m)\u001b[0m\u001b[0;34m\u001b[0m\u001b[0;34m\u001b[0m\u001b[0m\n\u001b[0;32m---> 50\u001b[0;31m             \u001b[0;32mfor\u001b[0m \u001b[0mline\u001b[0m \u001b[0;32min\u001b[0m \u001b[0mprocess\u001b[0m\u001b[0;34m.\u001b[0m\u001b[0mstdout\u001b[0m\u001b[0;34m:\u001b[0m\u001b[0;34m\u001b[0m\u001b[0;34m\u001b[0m\u001b[0m\n\u001b[0m\u001b[1;32m     51\u001b[0m                 \u001b[0msys\u001b[0m\u001b[0;34m.\u001b[0m\u001b[0mstdout\u001b[0m\u001b[0;34m.\u001b[0m\u001b[0mwrite\u001b[0m\u001b[0;34m(\u001b[0m\u001b[0mline\u001b[0m\u001b[0;34m)\u001b[0m\u001b[0;34m\u001b[0m\u001b[0;34m\u001b[0m\u001b[0m\n\u001b[1;32m     52\u001b[0m             \u001b[0;32mreturn\u001b[0m \u001b[0mprocess\u001b[0m\u001b[0;34m.\u001b[0m\u001b[0mreturncode\u001b[0m\u001b[0;34m\u001b[0m\u001b[0;34m\u001b[0m\u001b[0m\n",
            "\u001b[0;31mKeyboardInterrupt\u001b[0m: "
          ]
        }
      ]
    },
    {
      "cell_type": "code",
      "metadata": {
        "id": "jF2rfXs37A9r",
        "colab_type": "code",
        "colab": {}
      },
      "source": [
        ""
      ],
      "execution_count": 0,
      "outputs": []
    }
  ]
}