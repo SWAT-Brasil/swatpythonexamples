{
  "nbformat": 4,
  "nbformat_minor": 0,
  "metadata": {
    "colab": {
      "name": "swatpython_colab_example.ipynb",
      "provenance": [],
      "collapsed_sections": [],
      "authorship_tag": "ABX9TyNsFkdX5Yv7LiIe4vhhOouS",
      "include_colab_link": true
    },
    "kernelspec": {
      "name": "python3",
      "display_name": "Python 3"
    }
  },
  "cells": [
    {
      "cell_type": "markdown",
      "metadata": {
        "id": "view-in-github",
        "colab_type": "text"
      },
      "source": [
        "<a href=\"https://colab.research.google.com/github/SWAT-Brasil/swatpythonexamples/blob/master/swatpython_colab_example.ipynb\" target=\"_parent\"><img src=\"https://colab.research.google.com/assets/colab-badge.svg\" alt=\"Open In Colab\"/></a>"
      ]
    },
    {
      "cell_type": "code",
      "metadata": {
        "id": "FAype8xjT3re",
        "colab_type": "code",
        "colab": {
          "base_uri": "https://localhost:8080/",
          "height": 34
        },
        "outputId": "aaa97dca-e920-439f-f1b9-d4df3794aac6"
      },
      "source": [
        "import platform\n",
        "import pandas\n",
        "import numpy"
      ],
      "execution_count": 6,
      "outputs": [
        {
          "output_type": "stream",
          "text": [
            "3.6.9\n"
          ],
          "name": "stdout"
        }
      ]
    },
    {
      "cell_type": "code",
      "metadata": {
        "id": "SmEzn409UK4Z",
        "colab_type": "code",
        "colab": {
          "base_uri": "https://localhost:8080/",
          "height": 573
        },
        "outputId": "334e9778-ee90-49f7-d2ac-0df67ef79aed"
      },
      "source": [
        "# Clone swatpython example\n",
        "!git clone --recurse-submodules https://github.com/SWAT-Brasil/swatpythonexamples.git"
      ],
      "execution_count": 7,
      "outputs": [
        {
          "output_type": "stream",
          "text": [
            "Cloning into 'swatpythonexamples'...\n",
            "remote: Enumerating objects: 110, done.\u001b[K\n",
            "remote: Counting objects: 100% (110/110), done.\u001b[K\n",
            "remote: Compressing objects: 100% (76/76), done.\u001b[K\n",
            "remote: Total 110 (delta 62), reused 77 (delta 32), pack-reused 0\u001b[K\n",
            "Receiving objects: 100% (110/110), 16.23 KiB | 3.25 MiB/s, done.\n",
            "Resolving deltas: 100% (62/62), done.\n",
            "Submodule 'swatcuppython' (https://github.com/SWAT-Brasil/swatcuppython.git) registered for path 'swatcuppython'\n",
            "Submodule 'swatdata' (https://github.com/SWAT-Brasil/swatdata.git) registered for path 'swatdata'\n",
            "Submodule 'swatpython' (https://github.com/SWAT-Brasil/swatpython.git) registered for path 'swatpython'\n",
            "Cloning into '/content/swatpythonexamples/swatcuppython'...\n",
            "remote: Enumerating objects: 335, done.        \n",
            "remote: Counting objects: 100% (335/335), done.        \n",
            "remote: Compressing objects: 100% (167/167), done.        \n",
            "remote: Total 335 (delta 134), reused 331 (delta 130), pack-reused 0        \n",
            "Receiving objects: 100% (335/335), 20.13 MiB | 8.42 MiB/s, done.\n",
            "Resolving deltas: 100% (134/134), done.\n",
            "Cloning into '/content/swatpythonexamples/swatdata'...\n",
            "remote: Enumerating objects: 1946, done.        \n",
            "remote: Counting objects: 100% (1946/1946), done.        \n",
            "remote: Compressing objects: 100% (319/319), done.        \n",
            "remote: Total 1946 (delta 1661), reused 1876 (delta 1597), pack-reused 0        \n",
            "Receiving objects: 100% (1946/1946), 20.23 MiB | 7.01 MiB/s, done.\n",
            "Resolving deltas: 100% (1661/1661), done.\n",
            "Cloning into '/content/swatpythonexamples/swatpython'...\n",
            "remote: Enumerating objects: 77, done.        \n",
            "remote: Counting objects: 100% (77/77), done.        \n",
            "remote: Compressing objects: 100% (53/53), done.        \n",
            "remote: Total 77 (delta 38), reused 60 (delta 21), pack-reused 0        \n",
            "Submodule path 'swatcuppython': checked out '659cbd685895d64406a3c50d4a956ccbf72a5fb2'\n",
            "Submodule path 'swatdata': checked out 'd8f1538715cd69746060b6192c6a4fd97835128e'\n",
            "Submodule path 'swatpython': checked out '18fb55cb84b514478a9d68c9e1888539ecb56155'\n"
          ],
          "name": "stdout"
        }
      ]
    },
    {
      "cell_type": "code",
      "metadata": {
        "id": "6re-WwWSVOhz",
        "colab_type": "code",
        "colab": {
          "base_uri": "https://localhost:8080/",
          "height": 34
        },
        "outputId": "04d7f02a-1ef3-4daa-87cd-1c7f1cc2932d"
      },
      "source": [
        "cd swatpythonexamples"
      ],
      "execution_count": 16,
      "outputs": [
        {
          "output_type": "stream",
          "text": [
            "/content/swatpythonexamples\n"
          ],
          "name": "stdout"
        }
      ]
    },
    {
      "cell_type": "code",
      "metadata": {
        "id": "4hKgbbVgVsE9",
        "colab_type": "code",
        "colab": {
          "base_uri": "https://localhost:8080/",
          "height": 34
        },
        "outputId": "d41c39de-2ed9-4335-d555-bce4e61629ae"
      },
      "source": [
        "import logging\n",
        "import time\n",
        "import os\n",
        "import platform\n",
        "from swatpython.swat import SWAT\n",
        "from swatpython.swatversion import SWATVersion\n",
        "from swatpython.operationalsystem import OperationalSystem\n",
        "\n",
        "logging.basicConfig(level=logging.DEBUG)\n",
        "logger = logging.getLogger(__name__)\n",
        "# Show python version for information\n",
        "logger.info(\"Python version: \" + platform.python_version())"
      ],
      "execution_count": 35,
      "outputs": [
        {
          "output_type": "stream",
          "text": [
            "INFO:__main__:Python version: 3.6.9\n"
          ],
          "name": "stderr"
        }
      ]
    },
    {
      "cell_type": "code",
      "metadata": {
        "id": "ycwKSvXnWNhI",
        "colab_type": "code",
        "colab": {
          "base_uri": "https://localhost:8080/",
          "height": 69
        },
        "outputId": "90e34975-3bfd-421d-9fda-3529fe364f41"
      },
      "source": [
        "# Set project version and folder\n",
        "swat = SWAT(SWATVersion.SWAT2012REV637)\n",
        "swat.set_project_folder('./swatdata//swat2012/swat2012_rev637/txtinout')"
      ],
      "execution_count": 29,
      "outputs": [
        {
          "output_type": "stream",
          "text": [
            "INFO:swatpython.swat:Detected OS: Linux 64bit\n",
            "INFO:swatpython.swat:Using SWATPython module: swat2012rev637\n",
            "INFO:swatpython.swat:Project folder found: ./swatdata//swat2012/swat2012_rev637/txtinout\n"
          ],
          "name": "stderr"
        }
      ]
    },
    {
      "cell_type": "code",
      "metadata": {
        "id": "ZBz3kIZnWkc5",
        "colab_type": "code",
        "colab": {
          "base_uri": "https://localhost:8080/",
          "height": 34
        },
        "outputId": "e4f0133e-66ef-40c8-f205-62312cc1b470"
      },
      "source": [
        "# Run SWAT\n",
        "swat.run()"
      ],
      "execution_count": 43,
      "outputs": [
        {
          "output_type": "stream",
          "text": [
            "DEBUG:swatpython.swat:Running SWAT in folder: ./swatdata//swat2012/swat2012_rev637/txtinout\n"
          ],
          "name": "stderr"
        }
      ]
    },
    {
      "cell_type": "code",
      "metadata": {
        "id": "Sf8-jwwKXngs",
        "colab_type": "code",
        "colab": {
          "base_uri": "https://localhost:8080/",
          "height": 86
        },
        "outputId": "56661541-88b6-4309-ead9-f4c158700688"
      },
      "source": [
        "swat.async_run()\n",
        "while swat.async_is_running():\n",
        "    logger.debug(\"SWAT is running\")\n",
        "    # Do other stuffs\n",
        "    time.sleep(1)\n",
        "logger.debug(\"Return code:\" + str(swat.async_return_code()))\n"
      ],
      "execution_count": 36,
      "outputs": [
        {
          "output_type": "stream",
          "text": [
            "DEBUG:swatpython.swat:Running SWAT in folder: ./swatdata//swat2012/swat2012_rev637/txtinout\n",
            "DEBUG:swatpython.swat2012rev637.swat2012rev637:Runnnig sufi2_async_run\n",
            "DEBUG:__main__:SWAT is running\n",
            "DEBUG:__main__:Return code:126\n"
          ],
          "name": "stderr"
        }
      ]
    },
    {
      "cell_type": "code",
      "metadata": {
        "id": "ckk9ALdMX0GF",
        "colab_type": "code",
        "colab": {}
      },
      "source": [
        "!chmod +x /content/swatpythonexamples/swatpython/swat2012rev637/swat2012_rev637_linux"
      ],
      "execution_count": 0,
      "outputs": []
    },
    {
      "cell_type": "code",
      "metadata": {
        "id": "ehJJaJDLYeVX",
        "colab_type": "code",
        "colab": {
          "base_uri": "https://localhost:8080/",
          "height": 903
        },
        "outputId": "3f94d722-d6c4-43cc-a6a2-1aaa3c41afe4"
      },
      "source": [
        "!sudo python swat_example.py"
      ],
      "execution_count": 44,
      "outputs": [
        {
          "output_type": "stream",
          "text": [
            "INFO:__main__:Python version: 3.6.9\n",
            "INFO:swatpython.swat:Detected OS: Linux 64bit\n",
            "INFO:swatpython.swat:Using SWATPython module: swat2012rev637\n",
            "INFO:swatpython.swat:Project folder found: /content/swatpythonexamples/swatdata/swat2012/swat2012_rev637/txtinout\n",
            "DEBUG:__main__:Sync example\n",
            "DEBUG:swatpython.swat:Running SWAT in folder: /content/swatpythonexamples/swatdata/swat2012/swat2012_rev637/txtinout\n",
            "                SWAT2012               \n",
            "               Rev. 637              \n",
            "      Soil & Water Assessment Tool    \n",
            "               PC Version             \n",
            " Program reading from file.cio . . . executing\n",
            "\n",
            "  Executing year    1\n",
            "  Executing year    2\n",
            "  Executing year    3\n",
            "  Executing year    4\n",
            "  Executing year    5\n",
            "  Executing year    6\n",
            "  Executing year    7\n",
            "  Executing year    8\n",
            "  Executing year    9\n",
            "  Executing year   10\n",
            "  Executing year   11\n",
            "  Executing year   12\n",
            "  Executing year   13\n",
            "\n",
            " Execution successfully completed \n",
            "DEBUG:swatpython.swat:Reading file: /content/swatpythonexamples/swatdata/swat2012/swat2012_rev637/txtinout/pcp1.pcp\n",
            "         0  ...       3\n",
            "0  Station  ...  pcp138\n",
            "0     Lati  ...    31.7\n",
            "1     Long  ...   -83.7\n",
            "2     Elev  ...     131\n",
            "\n",
            "[4 rows x 4 columns]\n",
            "      year  ...  pcp138\n",
            "0     1988  ...     2.5\n",
            "1     1988  ...    17.8\n",
            "2     1988  ...    25.4\n",
            "3     1988  ...     0.0\n",
            "4     1988  ...     0.0\n",
            "...    ...  ...     ...\n",
            "9127  2012  ...     0.0\n",
            "9128  2012  ...     0.0\n",
            "9129  2012  ...    21.6\n",
            "9130  2012  ...     0.0\n",
            "9131  2012  ...     0.0\n",
            "\n",
            "[9132 rows x 5 columns]\n",
            "DEBUG:swatpython.swat:Writing file: /content/swatpythonexamples/swatdata/swat2012/swat2012_rev637/txtinout/pcp2.pcp\n",
            "DEBUG:swatpython.swat:Reading file: /content/swatpythonexamples/swatdata/swat2012/swat2012_rev637/txtinout/output.rch\n"
          ],
          "name": "stdout"
        }
      ]
    },
    {
      "cell_type": "code",
      "metadata": {
        "id": "fkfkMkP7Yiaz",
        "colab_type": "code",
        "colab": {}
      },
      "source": [
        ""
      ],
      "execution_count": 0,
      "outputs": []
    }
  ]
}